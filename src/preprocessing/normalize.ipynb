{
 "cells": [
  {
   "cell_type": "code",
   "execution_count": 5,
   "id": "2e02edcb-8d8e-44c4-8c02-a6751b3a5b87",
   "metadata": {},
   "outputs": [],
   "source": [
    "import cv2\n",
    "import os\n",
    "\n",
    "def normalize_image(input_path, output_path):\n",
    "    img = cv2.imread(input_path, cv2.IMREAD_GRAYSCALE)\n",
    "    img = cv2.resize(img, (64, 64))\n",
    "    img = cv2.normalize(img, None, 0, 255, cv2.NORM_MINMAX)\n",
    "    cv2.imwrite(output_path, img)\n",
    "\n",
    "def normalize_dataset(input_dir, output_dir):\n",
    "    os.makedirs(output_dir, exist_ok=True)\n",
    "    for filename in os.listdir(input_dir):\n",
    "        if filename.endswith('.png'):\n",
    "            normalize_image(os.path.join(input_dir, filename), os.path.join(output_dir, filename))"
   ]
  }
 ],
 "metadata": {
  "kernelspec": {
   "display_name": "Python 3 (ipykernel)",
   "language": "python",
   "name": "python3"
  },
  "language_info": {
   "codemirror_mode": {
    "name": "ipython",
    "version": 3
   },
   "file_extension": ".py",
   "mimetype": "text/x-python",
   "name": "python",
   "nbconvert_exporter": "python",
   "pygments_lexer": "ipython3",
   "version": "3.12.2"
  }
 },
 "nbformat": 4,
 "nbformat_minor": 5
}
