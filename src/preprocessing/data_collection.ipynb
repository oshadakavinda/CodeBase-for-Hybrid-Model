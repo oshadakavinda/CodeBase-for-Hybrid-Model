{
 "cells": [
  {
   "cell_type": "code",
   "execution_count": null,
   "id": "383ceaa0-838a-4e3b-8c68-8338f0f8cf8f",
   "metadata": {},
   "outputs": [],
   "source": [
    "from PIL import Image, ImageDraw, ImageFont\n",
    "import os\n",
    "import random\n",
    "\n",
    "def generate_synthetic_image(char, font_path, output_dir):\n",
    "    # Get folder name from mapping\n",
    "    char_to_folder = {\n",
    "        \"අ\": \"A\", \"ආ\": \"aa\", \"ඇ\": \"ae\", \"ඈ\": \"aE\", \"ඉ\": \"i\", \"ඊ\": \"ii\",\n",
    "        \"උ\": \"u\", \"ඌ\": \"uu\", \"එ\": \"e\", \"ඒ\": \"ee\", \"ඓ\": \"ai\", \"ඔ\": \"o\",\n",
    "        \"ඕ\": \"oo\", \"ඖ\": \"au\"\n",
    "    }\n",
    "    char_folder = os.path.join(output_dir, char_to_folder[char])\n",
    "    os.makedirs(char_folder, exist_ok=True)\n",
    "    \n",
    "    img = Image.new('L', (64, 64), color=255)  # Grayscale, white background\n",
    "    draw = ImageDraw.Draw(img)\n",
    "    try:\n",
    "        font = ImageFont.truetype(font_path, 40)\n",
    "        draw.text((10, 10), char, fill=0, font=font)  # Black text\n",
    "        img.save(os.path.join(char_folder, f'synth_{char_to_folder[char]}_{os.urandom(8).hex()}.png'))\n",
    "    except Exception as e:\n",
    "        print(f\"Error with char {char}: {e}\")\n",
    "\n",
    "def create_synthetic_dataset(font_path, output_dir, sinhala_chars, samples_per_char=100):\n",
    "    os.makedirs(output_dir, exist_ok=True)\n",
    "    for char in sinhala_chars:\n",
    "        for _ in range(samples_per_char):\n",
    "            generate_synthetic_image(char, font_path, output_dir)"
   ]
  }
 ],
 "metadata": {
  "kernelspec": {
   "display_name": "Python 3 (ipykernel)",
   "language": "python",
   "name": "python3"
  },
  "language_info": {
   "codemirror_mode": {
    "name": "ipython",
    "version": 3
   },
   "file_extension": ".py",
   "mimetype": "text/x-python",
   "name": "python",
   "nbconvert_exporter": "python",
   "pygments_lexer": "ipython3",
   "version": "3.12.2"
  }
 },
 "nbformat": 4,
 "nbformat_minor": 5
}
