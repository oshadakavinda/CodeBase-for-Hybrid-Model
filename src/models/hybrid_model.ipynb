{
 "cells": [
  {
   "cell_type": "code",
   "execution_count": null,
   "id": "6f01e43b-0886-4fef-a396-7ccc0f9686c8",
   "metadata": {},
   "outputs": [],
   "source": [
    "import torch\n",
    "import torch.nn as nn\n",
    "\n",
    "class HybridModel(nn.Module):\n",
    "    def __init__(self, num_classes, input_channels=1, hidden_size=128):\n",
    "        super(HybridModel, self).__init__()\n",
    "        # CNN: Extract features from 64x64 grayscale images\n",
    "        self.cnn = nn.Sequential(\n",
    "            nn.Conv2d(input_channels, 32, kernel_size=3, padding=1),\n",
    "            nn.ReLU(),\n",
    "            nn.MaxPool2d(2, 2),  # 32x32\n",
    "            nn.Conv2d(32, 64, kernel_size=3, padding=1),\n",
    "            nn.ReLU(),\n",
    "            nn.MaxPool2d(2, 2),  # 16x16\n",
    "        )\n",
    "        # RNN: Process features (single time step)\n",
    "        self.rnn = nn.LSTM(input_size=64 * 16 * 16, hidden_size=hidden_size, num_layers=1, batch_first=True)\n",
    "        # Linear layer: Output num_classes (1401)\n",
    "        self.fc = nn.Linear(hidden_size, num_classes)\n",
    "\n",
    "    def forward(self, x):\n",
    "        # x: (batch_size, 1, 64, 64)\n",
    "        batch_size = x.size(0)\n",
    "        x = self.cnn(x)  # Shape: (batch_size, 64, 16, 16)\n",
    "        x = x.view(batch_size, 1, -1)  # Shape: (batch_size, 1, 64*16*16)\n",
    "        x, _ = self.rnn(x)  # Shape: (batch_size, 1, hidden_size)\n",
    "        x = self.fc(x)  # Shape: (batch_size, 1, num_classes)\n",
    "        return x"
   ]
  },
  {
   "cell_type": "code",
   "execution_count": null,
   "id": "dc58ca5f-1b35-4894-8844-0a74e4ea5aab",
   "metadata": {},
   "outputs": [],
   "source": []
  }
 ],
 "metadata": {
  "kernelspec": {
   "display_name": "Python 3 (ipykernel)",
   "language": "python",
   "name": "python3"
  },
  "language_info": {
   "codemirror_mode": {
    "name": "ipython",
    "version": 3
   },
   "file_extension": ".py",
   "mimetype": "text/x-python",
   "name": "python",
   "nbconvert_exporter": "python",
   "pygments_lexer": "ipython3",
   "version": "3.12.2"
  }
 },
 "nbformat": 4,
 "nbformat_minor": 5
}
