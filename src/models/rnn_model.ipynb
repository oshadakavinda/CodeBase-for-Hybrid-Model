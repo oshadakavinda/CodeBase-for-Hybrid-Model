{
 "cells": [
  {
   "cell_type": "code",
   "execution_count": null,
   "id": "3627d0f2-b034-4498-a98a-445aed583e06",
   "metadata": {},
   "outputs": [],
   "source": [
    "import torch\n",
    "import torch.nn as nn\n",
    "\n",
    "class RNNModel(nn.Module):\n",
    "    def __init__(self, input_size, num_chars, hidden_size=128):\n",
    "        super(RNNModel, self).__init__()\n",
    "        # RNN: Process flattened 64x64 grayscale images\n",
    "        self.rnn = nn.LSTM(input_size=input_size, hidden_size=hidden_size, num_layers=1, batch_first=True)\n",
    "        # Linear layer: Output num_chars (1401 for CTC loss)\n",
    "        self.fc = nn.Linear(hidden_size, num_chars)\n",
    "\n",
    "    def forward(self, x):\n",
    "        # x: (batch_size, 1, 64, 64)\n",
    "        batch_size = x.size(0)\n",
    "        x = x.view(batch_size, 1, -1)  # Shape: (batch_size, 1, input_size)\n",
    "        x, _ = self.rnn(x)  # Shape: (batch_size, 1, hidden_size)\n",
    "        x = self.fc(x)  # Shape: (batch_size, 1, num_chars)\n",
    "        return x"
   ]
  },
  {
   "cell_type": "code",
   "execution_count": null,
   "id": "70a7263b-7857-470e-b992-e4a988de643e",
   "metadata": {},
   "outputs": [],
   "source": []
  }
 ],
 "metadata": {
  "kernelspec": {
   "display_name": "Python 3 (ipykernel)",
   "language": "python",
   "name": "python3"
  },
  "language_info": {
   "codemirror_mode": {
    "name": "ipython",
    "version": 3
   },
   "file_extension": ".py",
   "mimetype": "text/x-python",
   "name": "python",
   "nbconvert_exporter": "python",
   "pygments_lexer": "ipython3",
   "version": "3.12.2"
  }
 },
 "nbformat": 4,
 "nbformat_minor": 5
}
