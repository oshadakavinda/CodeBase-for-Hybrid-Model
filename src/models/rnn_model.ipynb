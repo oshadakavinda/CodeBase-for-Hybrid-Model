{
 "cells": [
  {
   "cell_type": "code",
   "execution_count": null,
   "id": "3627d0f2-b034-4498-a98a-445aed583e06",
   "metadata": {},
   "outputs": [],
   "source": [
    "# rnn_model.py\n",
    "import torch.nn as nn\n",
    "\n",
    "class RNNModel(nn.Module):\n",
    "    def __init__(self, num_classes=454, hidden_size=256):\n",
    "        super(RNNModel, self).__init__()\n",
    "        # Treat image rows as sequence\n",
    "        self.rnn = nn.LSTM(\n",
    "            input_size=80,      # Process each row (80 pixels)\n",
    "            hidden_size=hidden_size,\n",
    "            num_layers=2,\n",
    "            batch_first=True,\n",
    "            dropout=0.5\n",
    "        )\n",
    "        self.fc = nn.Linear(hidden_size, num_classes)\n",
    "    \n",
    "    def forward(self, x):\n",
    "        # x: (batch_size, 1, 80, 80)\n",
    "        batch_size = x.size(0)\n",
    "        x = x.squeeze(1)  # (batch_size, 80, 80) - treat as 80 rows\n",
    "        x, (h, c) = self.rnn(x)  # Process row by row\n",
    "        x = h[-1]  # Take last hidden state: (batch_size, hidden_size)\n",
    "        x = self.fc(x)  # (batch_size, num_classes)\n",
    "        return x"
   ]
  },
  {
   "cell_type": "code",
   "execution_count": null,
   "id": "70a7263b-7857-470e-b992-e4a988de643e",
   "metadata": {},
   "outputs": [],
   "source": []
  }
 ],
 "metadata": {
  "kernelspec": {
   "display_name": "Python 3 (ipykernel)",
   "language": "python",
   "name": "python3"
  },
  "language_info": {
   "codemirror_mode": {
    "name": "ipython",
    "version": 3
   },
   "file_extension": ".py",
   "mimetype": "text/x-python",
   "name": "python",
   "nbconvert_exporter": "python",
   "pygments_lexer": "ipython3",
   "version": "3.12.2"
  }
 },
 "nbformat": 4,
 "nbformat_minor": 5
}
